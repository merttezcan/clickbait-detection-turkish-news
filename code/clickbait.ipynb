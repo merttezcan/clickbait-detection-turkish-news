{
 "cells": [
  {
   "attachments": {},
   "cell_type": "markdown",
   "metadata": {},
   "source": [
    "# Detecting Misleading Headlines in Turkish News: A Study of Clickbait Detection\n",
    "\n",
    "#### Author: Mehmet Mert Tezcan\n",
    "\n",
    "## 1. Introduction\n",
    "\n",
    "\n",
    "In today's fast-paced digital media landscape, clickbait headlines have become a common tactic used by news organizations to drive traffic to their websites. These sensationalized or misleading headlines are designed to grab the reader's attention and entice them to click on a link to an article or website. While clickbait can be profitable for the website, it can also be frustrating and misleading for readers.\n",
    "\n",
    "This project aims to address the issue of clickbait in the news industry by developing a system for detecting clickbait headlines in a dataset of Turkish news articles. By identifying and flagging clickbait headlines, we hope to improve the quality and trustworthiness of online news for readers. Additionally, this project aims to contribute to the ongoing conversation about the impact of clickbait on the credibility of the news media and the role of technology in combating it.\n",
    "\n",
    "## 2. Characterizing the Turkish News Dataset\n",
    "Our dataset for this project consists of 20,036 headlines, each labeled as either clickbait (1) or non-clickbait (0). These headlines were collected from a variety of websites and are available for download on [Kaggle](https://www.kaggle.com/datasets/suleymancan/turkishnewstitle20000clickbaitclassified).\n",
    "\n",
    "In order to build a reliable clickbait detection system, it is important to have a diverse and representative dataset. This dataset provides a good starting point, but it is worth noting that it may not perfectly reflect the full range of clickbait practices in the Turkish news industry. Further analysis and preprocessing of the dataset may be necessary to ensure that it is well-suited for the task at hand."
   ]
  },
  {
   "cell_type": "markdown",
   "metadata": {},
   "source": [
    "# 3. Let's start with the code\n",
    "\n",
    "## 3.1. Importing Libraries\n",
    "\n",
    "- Pandas and numpy are used to load and manipulate the data. The dataset is likely stored in a tabular format (such as a CSV file), and pandas makes it easy to read in and work with this kind of data. numpy is useful for performing mathematical operations on arrays of data.\n",
    "\n",
    "- Matplotlib and seaborn are used to create visualizations of the data. These plots can be helpful for understanding the characteristics of the data and for identifying patterns or trends.\n",
    "\n",
    "- Re, string, and nltk are used for preprocessing the text data. This may include tasks such as removing punctuation, lowercasing the text, removing stopwords (common words that do not add meaning to the text), and stemming (reducing words to their base form).\n",
    "\n",
    "- Sklearn is used to train and evaluate machine learning models. It contains a variety of algorithms for classification, including logistic regression, which is used in this project. It also includes tools for splitting the data into training and test sets, evaluating the performance of the model, and more.\n",
    "\n",
    "- Scipy is used to work with sparse matrices, which can be more memory-efficient when dealing with large datasets that have many zero values.\n",
    "warnings is used to suppress warning messages that may be generated while running the code. This can help to declutter the output and make it easier to focus on the results."
   ]
  },
  {
   "cell_type": "code",
   "execution_count": 1,
   "metadata": {},
   "outputs": [
    {
     "name": "stderr",
     "output_type": "stream",
     "text": [
      "[nltk_data] Downloading package punkt to /Users/mert/nltk_data...\n",
      "[nltk_data]   Package punkt is already up-to-date!\n",
      "[nltk_data] Downloading package stopwords to /Users/mert/nltk_data...\n",
      "[nltk_data]   Package stopwords is already up-to-date!\n"
     ]
    }
   ],
   "source": [
    "import pandas as pd\n",
    "import numpy as np\n",
    "import matplotlib.pyplot as plt\n",
    "import seaborn as sns\n",
    "from scipy import sparse\n",
    "\n",
    "import re\n",
    "import string\n",
    "from string import punctuation\n",
    "import nltk\n",
    "nltk.download('punkt')\n",
    "nltk.download('stopwords')\n",
    "from nltk.corpus import stopwords\n",
    "from nltk.tokenize import word_tokenize\n",
    "from nltk.probability import FreqDist\n",
    "from nltk.stem import PorterStemmer\n",
    "from nltk.probability import FreqDist\n",
    "\n",
    "from wordcloud import WordCloud\n",
    "\n",
    "from sklearn.model_selection import train_test_split\n",
    "from sklearn.linear_model import LogisticRegression\n",
    "from sklearn.metrics import accuracy_score, confusion_matrix, classification_report\n",
    "from sklearn.feature_extraction.text import CountVectorizer, TfidfVectorizer, TfidfTransformer\n",
    "from sklearn.svm import LinearSVC\n",
    "from sklearn.linear_model import LogisticRegression\n",
    "from sklearn.naive_bayes import MultinomialNB\n",
    "from sklearn.ensemble import RandomForestClassifier\n",
    "from sklearn.model_selection import cross_val_score\n",
    "from sklearn.model_selection import GridSearchCV\n",
    "from sklearn.preprocessing import StandardScaler\n",
    "\n",
    "\n",
    "import warnings\n",
    "warnings.filterwarnings('ignore')"
   ]
  },
  {
   "cell_type": "markdown",
   "metadata": {},
   "source": [
    "## 3.2. Importing Data\n",
    "\n",
    "- The dataset is loaded into a pandas dataframe using the read_csv() function. Shape is used to display the number of rows and columns in the dataframe. We can also check value.counts() to see how many headlines are labeled as clickbait and how many are labeled as non-clickbait.\n",
    "\n",
    "- The first five rows of the dataframe are displayed using the head() function."
   ]
  },
  {
   "cell_type": "code",
   "execution_count": 2,
   "metadata": {},
   "outputs": [
    {
     "name": "stdout",
     "output_type": "stream",
     "text": [
      "Shape of the dataset: (20038, 4)\n",
      "Number of the clickbait and non-clickbait titles:\n",
      "1.0    10030\n",
      "0.0    10006\n",
      "Name: clickbait, dtype: int64\n"
     ]
    }
   ],
   "source": [
    "df = pd.read_csv('https://raw.githubusercontent.com/merttezcan/clickbait-detection-turkish-news/main/data/20000_turkish_news_title.csv')\n",
    "print(\"Shape of the dataset:\", df.shape)\n",
    "\n",
    "print(\"Number of the clickbait and non-clickbait titles:\")\n",
    "print(df.clickbait.value_counts())"
   ]
  },
  {
   "cell_type": "code",
   "execution_count": 3,
   "metadata": {},
   "outputs": [
    {
     "data": {
      "text/html": [
       "<div>\n",
       "<style scoped>\n",
       "    .dataframe tbody tr th:only-of-type {\n",
       "        vertical-align: middle;\n",
       "    }\n",
       "\n",
       "    .dataframe tbody tr th {\n",
       "        vertical-align: top;\n",
       "    }\n",
       "\n",
       "    .dataframe thead th {\n",
       "        text-align: right;\n",
       "    }\n",
       "</style>\n",
       "<table border=\"1\" class=\"dataframe\">\n",
       "  <thead>\n",
       "    <tr style=\"text-align: right;\">\n",
       "      <th></th>\n",
       "      <th>id</th>\n",
       "      <th>clickbait</th>\n",
       "      <th>site</th>\n",
       "      <th>title</th>\n",
       "    </tr>\n",
       "  </thead>\n",
       "  <tbody>\n",
       "    <tr>\n",
       "      <th>0</th>\n",
       "      <td>25892</td>\n",
       "      <td>1.0</td>\n",
       "      <td>hurriyet.com.tr</td>\n",
       "      <td>İhracatta Türkiye'nin yarısını geçti</td>\n",
       "    </tr>\n",
       "    <tr>\n",
       "      <th>1</th>\n",
       "      <td>25893</td>\n",
       "      <td>1.0</td>\n",
       "      <td>hurriyet.com.tr</td>\n",
       "      <td>Borsa İstanbul günü düşüşle tamamladı</td>\n",
       "    </tr>\n",
       "    <tr>\n",
       "      <th>2</th>\n",
       "      <td>25894</td>\n",
       "      <td>1.0</td>\n",
       "      <td>hurriyet.com.tr</td>\n",
       "      <td>Londra ve Manchester uçuşlarında yolcu rekoru ...</td>\n",
       "    </tr>\n",
       "    <tr>\n",
       "      <th>3</th>\n",
       "      <td>4</td>\n",
       "      <td>0.0</td>\n",
       "      <td>nayn.co</td>\n",
       "      <td>CHP’li İlgezdi’den partisine ve Kılıçdaroğlu’n...</td>\n",
       "    </tr>\n",
       "    <tr>\n",
       "      <th>4</th>\n",
       "      <td>5</td>\n",
       "      <td>0.0</td>\n",
       "      <td>nayn.co</td>\n",
       "      <td>Vatandaşın derdine ortak olmaya soyunan bir cu...</td>\n",
       "    </tr>\n",
       "  </tbody>\n",
       "</table>\n",
       "</div>"
      ],
      "text/plain": [
       "      id  clickbait             site  \\\n",
       "0  25892        1.0  hurriyet.com.tr   \n",
       "1  25893        1.0  hurriyet.com.tr   \n",
       "2  25894        1.0  hurriyet.com.tr   \n",
       "3      4        0.0          nayn.co   \n",
       "4      5        0.0          nayn.co   \n",
       "\n",
       "                                               title  \n",
       "0               İhracatta Türkiye'nin yarısını geçti  \n",
       "1              Borsa İstanbul günü düşüşle tamamladı  \n",
       "2  Londra ve Manchester uçuşlarında yolcu rekoru ...  \n",
       "3  CHP’li İlgezdi’den partisine ve Kılıçdaroğlu’n...  \n",
       "4  Vatandaşın derdine ortak olmaya soyunan bir cu...  "
      ]
     },
     "execution_count": 3,
     "metadata": {},
     "output_type": "execute_result"
    }
   ],
   "source": [
    "df.head()"
   ]
  },
  {
   "cell_type": "markdown",
   "metadata": {},
   "source": [
    "## 3.3. Data Preprocessing\n",
    "\n",
    "Before we can begin analyzing the data, we need to perform some preprocessing steps to get it into a form that is suitable for our purposes. The dataset consists of four columns: \"id\", \"clickbait\", \"site\", and \"title\". The \"id\" column is a unique identifier for each headline, the \"clickbait\" column is the label (either 1 for clickbait or 0 for non-clickbait), the \"site\" column is the website where the headline was published, and the \"title\" column is the headline text.\n",
    "\n",
    "For the purposes of this project, we are only interested in the \"clickbait\" and \"title\" columns, as the \"clickbait\" column provides the labels for our data and the \"title\" column contains the text that we will be analyzing. The \"id\" and \"site\" columns are not relevant for our analysis, so we can drop them from the dataset."
   ]
  },
  {
   "cell_type": "code",
   "execution_count": 4,
   "metadata": {},
   "outputs": [
    {
     "data": {
      "text/html": [
       "<div>\n",
       "<style scoped>\n",
       "    .dataframe tbody tr th:only-of-type {\n",
       "        vertical-align: middle;\n",
       "    }\n",
       "\n",
       "    .dataframe tbody tr th {\n",
       "        vertical-align: top;\n",
       "    }\n",
       "\n",
       "    .dataframe thead th {\n",
       "        text-align: right;\n",
       "    }\n",
       "</style>\n",
       "<table border=\"1\" class=\"dataframe\">\n",
       "  <thead>\n",
       "    <tr style=\"text-align: right;\">\n",
       "      <th></th>\n",
       "      <th>clickbait</th>\n",
       "      <th>title</th>\n",
       "    </tr>\n",
       "  </thead>\n",
       "  <tbody>\n",
       "    <tr>\n",
       "      <th>0</th>\n",
       "      <td>1.0</td>\n",
       "      <td>İhracatta Türkiye'nin yarısını geçti</td>\n",
       "    </tr>\n",
       "    <tr>\n",
       "      <th>1</th>\n",
       "      <td>1.0</td>\n",
       "      <td>Borsa İstanbul günü düşüşle tamamladı</td>\n",
       "    </tr>\n",
       "    <tr>\n",
       "      <th>2</th>\n",
       "      <td>1.0</td>\n",
       "      <td>Londra ve Manchester uçuşlarında yolcu rekoru ...</td>\n",
       "    </tr>\n",
       "    <tr>\n",
       "      <th>3</th>\n",
       "      <td>0.0</td>\n",
       "      <td>CHP’li İlgezdi’den partisine ve Kılıçdaroğlu’n...</td>\n",
       "    </tr>\n",
       "    <tr>\n",
       "      <th>4</th>\n",
       "      <td>0.0</td>\n",
       "      <td>Vatandaşın derdine ortak olmaya soyunan bir cu...</td>\n",
       "    </tr>\n",
       "    <tr>\n",
       "      <th>...</th>\n",
       "      <td>...</td>\n",
       "      <td>...</td>\n",
       "    </tr>\n",
       "    <tr>\n",
       "      <th>20033</th>\n",
       "      <td>1.0</td>\n",
       "      <td>Kılıçdaroğlu, 8 Mart Dünya Emekçi Kadınlar Gün...</td>\n",
       "    </tr>\n",
       "    <tr>\n",
       "      <th>20034</th>\n",
       "      <td>1.0</td>\n",
       "      <td>Abdest nasıl alınır? Abdest alırken hangi dual...</td>\n",
       "    </tr>\n",
       "    <tr>\n",
       "      <th>20035</th>\n",
       "      <td>1.0</td>\n",
       "      <td>Sıla Hanım, Ahmet Bey’in inançlarına saygısızmış!</td>\n",
       "    </tr>\n",
       "    <tr>\n",
       "      <th>20036</th>\n",
       "      <td>1.0</td>\n",
       "      <td>Binali Yıldırım: Hiçbir şekilde hakkınızın kay...</td>\n",
       "    </tr>\n",
       "    <tr>\n",
       "      <th>20037</th>\n",
       "      <td>1.0</td>\n",
       "      <td>Kadınlarda En Çok Görülen Hastalıklar ve Tedav...</td>\n",
       "    </tr>\n",
       "  </tbody>\n",
       "</table>\n",
       "<p>20038 rows × 2 columns</p>\n",
       "</div>"
      ],
      "text/plain": [
       "       clickbait                                              title\n",
       "0            1.0               İhracatta Türkiye'nin yarısını geçti\n",
       "1            1.0              Borsa İstanbul günü düşüşle tamamladı\n",
       "2            1.0  Londra ve Manchester uçuşlarında yolcu rekoru ...\n",
       "3            0.0  CHP’li İlgezdi’den partisine ve Kılıçdaroğlu’n...\n",
       "4            0.0  Vatandaşın derdine ortak olmaya soyunan bir cu...\n",
       "...          ...                                                ...\n",
       "20033        1.0  Kılıçdaroğlu, 8 Mart Dünya Emekçi Kadınlar Gün...\n",
       "20034        1.0  Abdest nasıl alınır? Abdest alırken hangi dual...\n",
       "20035        1.0  Sıla Hanım, Ahmet Bey’in inançlarına saygısızmış!\n",
       "20036        1.0  Binali Yıldırım: Hiçbir şekilde hakkınızın kay...\n",
       "20037        1.0  Kadınlarda En Çok Görülen Hastalıklar ve Tedav...\n",
       "\n",
       "[20038 rows x 2 columns]"
      ]
     },
     "execution_count": 4,
     "metadata": {},
     "output_type": "execute_result"
    }
   ],
   "source": [
    "df = df.drop(df.columns[[0, 2]],axis = 1)\n",
    "df"
   ]
  },
  {
   "cell_type": "markdown",
   "metadata": {},
   "source": [
    "Also we can rename the \"clickbait\" column to \"label\"."
   ]
  },
  {
   "cell_type": "code",
   "execution_count": 5,
   "metadata": {},
   "outputs": [
    {
     "data": {
      "text/html": [
       "<div>\n",
       "<style scoped>\n",
       "    .dataframe tbody tr th:only-of-type {\n",
       "        vertical-align: middle;\n",
       "    }\n",
       "\n",
       "    .dataframe tbody tr th {\n",
       "        vertical-align: top;\n",
       "    }\n",
       "\n",
       "    .dataframe thead th {\n",
       "        text-align: right;\n",
       "    }\n",
       "</style>\n",
       "<table border=\"1\" class=\"dataframe\">\n",
       "  <thead>\n",
       "    <tr style=\"text-align: right;\">\n",
       "      <th></th>\n",
       "      <th>label</th>\n",
       "      <th>title</th>\n",
       "    </tr>\n",
       "  </thead>\n",
       "  <tbody>\n",
       "    <tr>\n",
       "      <th>0</th>\n",
       "      <td>1.0</td>\n",
       "      <td>İhracatta Türkiye'nin yarısını geçti</td>\n",
       "    </tr>\n",
       "    <tr>\n",
       "      <th>1</th>\n",
       "      <td>1.0</td>\n",
       "      <td>Borsa İstanbul günü düşüşle tamamladı</td>\n",
       "    </tr>\n",
       "    <tr>\n",
       "      <th>2</th>\n",
       "      <td>1.0</td>\n",
       "      <td>Londra ve Manchester uçuşlarında yolcu rekoru ...</td>\n",
       "    </tr>\n",
       "    <tr>\n",
       "      <th>3</th>\n",
       "      <td>0.0</td>\n",
       "      <td>CHP’li İlgezdi’den partisine ve Kılıçdaroğlu’n...</td>\n",
       "    </tr>\n",
       "    <tr>\n",
       "      <th>4</th>\n",
       "      <td>0.0</td>\n",
       "      <td>Vatandaşın derdine ortak olmaya soyunan bir cu...</td>\n",
       "    </tr>\n",
       "    <tr>\n",
       "      <th>...</th>\n",
       "      <td>...</td>\n",
       "      <td>...</td>\n",
       "    </tr>\n",
       "    <tr>\n",
       "      <th>20033</th>\n",
       "      <td>1.0</td>\n",
       "      <td>Kılıçdaroğlu, 8 Mart Dünya Emekçi Kadınlar Gün...</td>\n",
       "    </tr>\n",
       "    <tr>\n",
       "      <th>20034</th>\n",
       "      <td>1.0</td>\n",
       "      <td>Abdest nasıl alınır? Abdest alırken hangi dual...</td>\n",
       "    </tr>\n",
       "    <tr>\n",
       "      <th>20035</th>\n",
       "      <td>1.0</td>\n",
       "      <td>Sıla Hanım, Ahmet Bey’in inançlarına saygısızmış!</td>\n",
       "    </tr>\n",
       "    <tr>\n",
       "      <th>20036</th>\n",
       "      <td>1.0</td>\n",
       "      <td>Binali Yıldırım: Hiçbir şekilde hakkınızın kay...</td>\n",
       "    </tr>\n",
       "    <tr>\n",
       "      <th>20037</th>\n",
       "      <td>1.0</td>\n",
       "      <td>Kadınlarda En Çok Görülen Hastalıklar ve Tedav...</td>\n",
       "    </tr>\n",
       "  </tbody>\n",
       "</table>\n",
       "<p>20038 rows × 2 columns</p>\n",
       "</div>"
      ],
      "text/plain": [
       "       label                                              title\n",
       "0        1.0               İhracatta Türkiye'nin yarısını geçti\n",
       "1        1.0              Borsa İstanbul günü düşüşle tamamladı\n",
       "2        1.0  Londra ve Manchester uçuşlarında yolcu rekoru ...\n",
       "3        0.0  CHP’li İlgezdi’den partisine ve Kılıçdaroğlu’n...\n",
       "4        0.0  Vatandaşın derdine ortak olmaya soyunan bir cu...\n",
       "...      ...                                                ...\n",
       "20033    1.0  Kılıçdaroğlu, 8 Mart Dünya Emekçi Kadınlar Gün...\n",
       "20034    1.0  Abdest nasıl alınır? Abdest alırken hangi dual...\n",
       "20035    1.0  Sıla Hanım, Ahmet Bey’in inançlarına saygısızmış!\n",
       "20036    1.0  Binali Yıldırım: Hiçbir şekilde hakkınızın kay...\n",
       "20037    1.0  Kadınlarda En Çok Görülen Hastalıklar ve Tedav...\n",
       "\n",
       "[20038 rows x 2 columns]"
      ]
     },
     "execution_count": 5,
     "metadata": {},
     "output_type": "execute_result"
    }
   ],
   "source": [
    "df.rename(columns = {'clickbait':'label'}, inplace = True)\n",
    "df"
   ]
  },
  {
   "cell_type": "markdown",
   "metadata": {},
   "source": [
    "Before we can proceed with our analysis, it is important to ensure that the data is clean and free of errors or missing values. Missing data can introduce biases and distort our results, so it is important to identify and handle missing values appropriately.\n",
    "\n",
    "One way to check for missing values is to use the .isnull() function, which returns a Boolean mask indicating which values are missing. We can then use the .sum() function to count the number of missing values per column. In the case of our dataset, we can use these functions to check for missing values as follows:"
   ]
  },
  {
   "cell_type": "code",
   "execution_count": 6,
   "metadata": {},
   "outputs": [
    {
     "name": "stdout",
     "output_type": "stream",
     "text": [
      "label    2\n",
      "title    0\n",
      "dtype: int64\n"
     ]
    }
   ],
   "source": [
    "null_mask = df.isnull()\n",
    "null_counts = null_mask.sum()\n",
    "print(null_counts)"
   ]
  },
  {
   "cell_type": "markdown",
   "metadata": {},
   "source": [
    "We only have two missing values in our dataset. We can drop them."
   ]
  },
  {
   "cell_type": "code",
   "execution_count": 7,
   "metadata": {},
   "outputs": [],
   "source": [
    "df = df.dropna()"
   ]
  },
  {
   "cell_type": "markdown",
   "metadata": {},
   "source": [
    "# 4. Feature Engineering\n",
    "\n",
    "One way to extract meaningful information from text data is to use feature engineering techniques. Feature engineering involves creating new features from the raw data that capture important patterns or trends. These features can then be used as input to machine learning algorithms, which can learn to identify patterns in the data and make predictions or decisions based on those patterns.\n",
    "\n",
    "In the case of our clickbait detection project, the \"title\" column contains the headline text that we want to analyze. One potential feature that we might extract from this text is the presence or absence of certain punctuation marks. For example, we could create two new binary features named contains_exclamation and contains_question_mark that indicate whether a headline contains an exclamation mark or a question mark, respectively. These features might be useful for detecting clickbait headlines, as sensational headlines often contain exclamation marks or question marks to grab the reader's attention.\n",
    "\n",
    "To extract these features, we can use regular expressions (with the re library) to search the headline text for exclamation marks and question marks. If either punctuation mark is present, we can set the corresponding feature to 1, and if not, we can set it to 0. This process can be done using the following code:"
   ]
  },
  {
   "cell_type": "code",
   "execution_count": 8,
   "metadata": {},
   "outputs": [
    {
     "data": {
      "text/html": [
       "<div>\n",
       "<style scoped>\n",
       "    .dataframe tbody tr th:only-of-type {\n",
       "        vertical-align: middle;\n",
       "    }\n",
       "\n",
       "    .dataframe tbody tr th {\n",
       "        vertical-align: top;\n",
       "    }\n",
       "\n",
       "    .dataframe thead th {\n",
       "        text-align: right;\n",
       "    }\n",
       "</style>\n",
       "<table border=\"1\" class=\"dataframe\">\n",
       "  <thead>\n",
       "    <tr style=\"text-align: right;\">\n",
       "      <th></th>\n",
       "      <th>label</th>\n",
       "      <th>title</th>\n",
       "      <th>contains_exclamation</th>\n",
       "      <th>contains_question_mark</th>\n",
       "    </tr>\n",
       "  </thead>\n",
       "  <tbody>\n",
       "    <tr>\n",
       "      <th>0</th>\n",
       "      <td>1.0</td>\n",
       "      <td>İhracatta Türkiye'nin yarısını geçti</td>\n",
       "      <td>0</td>\n",
       "      <td>0</td>\n",
       "    </tr>\n",
       "    <tr>\n",
       "      <th>1</th>\n",
       "      <td>1.0</td>\n",
       "      <td>Borsa İstanbul günü düşüşle tamamladı</td>\n",
       "      <td>0</td>\n",
       "      <td>0</td>\n",
       "    </tr>\n",
       "    <tr>\n",
       "      <th>2</th>\n",
       "      <td>1.0</td>\n",
       "      <td>Londra ve Manchester uçuşlarında yolcu rekoru ...</td>\n",
       "      <td>0</td>\n",
       "      <td>0</td>\n",
       "    </tr>\n",
       "    <tr>\n",
       "      <th>3</th>\n",
       "      <td>0.0</td>\n",
       "      <td>CHP’li İlgezdi’den partisine ve Kılıçdaroğlu’n...</td>\n",
       "      <td>0</td>\n",
       "      <td>0</td>\n",
       "    </tr>\n",
       "    <tr>\n",
       "      <th>4</th>\n",
       "      <td>0.0</td>\n",
       "      <td>Vatandaşın derdine ortak olmaya soyunan bir cu...</td>\n",
       "      <td>0</td>\n",
       "      <td>0</td>\n",
       "    </tr>\n",
       "  </tbody>\n",
       "</table>\n",
       "</div>"
      ],
      "text/plain": [
       "   label                                              title  \\\n",
       "0    1.0               İhracatta Türkiye'nin yarısını geçti   \n",
       "1    1.0              Borsa İstanbul günü düşüşle tamamladı   \n",
       "2    1.0  Londra ve Manchester uçuşlarında yolcu rekoru ...   \n",
       "3    0.0  CHP’li İlgezdi’den partisine ve Kılıçdaroğlu’n...   \n",
       "4    0.0  Vatandaşın derdine ortak olmaya soyunan bir cu...   \n",
       "\n",
       "   contains_exclamation  contains_question_mark  \n",
       "0                     0                       0  \n",
       "1                     0                       0  \n",
       "2                     0                       0  \n",
       "3                     0                       0  \n",
       "4                     0                       0  "
      ]
     },
     "execution_count": 8,
     "metadata": {},
     "output_type": "execute_result"
    }
   ],
   "source": [
    "def extract_features(text):\n",
    "    contains_exclamation = int('!' in text)\n",
    "    contains_question_mark = int('?' in text)\n",
    "    return [contains_exclamation, contains_question_mark]\n",
    "\n",
    "features = []\n",
    "for text in df['title']:\n",
    "    features.append(extract_features(text))\n",
    "\n",
    "\n",
    "# add features to the dataframe\n",
    "\n",
    "df['contains_exclamation'] = [f[0] for f in features]\n",
    "df['contains_question_mark'] = [f[1] for f in features]\n",
    "\n",
    "df.head()\n"
   ]
  },
  {
   "cell_type": "markdown",
   "metadata": {},
   "source": [
    "We can then check the number of headlines that contain exclamation marks and question marks as follows:"
   ]
  },
  {
   "cell_type": "code",
   "execution_count": 9,
   "metadata": {},
   "outputs": [
    {
     "data": {
      "text/plain": [
       "0    18537\n",
       "1     1499\n",
       "Name: contains_question_mark, dtype: int64"
      ]
     },
     "execution_count": 9,
     "metadata": {},
     "output_type": "execute_result"
    }
   ],
   "source": [
    "df.contains_question_mark.value_counts()"
   ]
  },
  {
   "cell_type": "code",
   "execution_count": 10,
   "metadata": {},
   "outputs": [
    {
     "data": {
      "text/plain": [
       "0    17291\n",
       "1     2745\n",
       "Name: contains_exclamation, dtype: int64"
      ]
     },
     "execution_count": 10,
     "metadata": {},
     "output_type": "execute_result"
    }
   ],
   "source": [
    "df.contains_exclamation.value_counts()"
   ]
  },
  {
   "cell_type": "markdown",
   "metadata": {},
   "source": [
    "We have 2,745 headlines which contains exclamation mark and 1,499 headlines which contains question mark.\n",
    "\n",
    "Before we can use the headline text for analysis, it is often necessary to preprocess the text to remove noise and make it more amenable to analysis. This preprocessing step can involve a variety of tasks, such as lowercasing the text, removing punctuation and non-alphabetic characters, and stemming (reducing words to their base form).\n",
    "\n",
    "To remove punctuation and non-alphabetic characters from the headline text, we can use the string library and a regular expression (with the re library) to replace these characters with spaces. For example, the following code will replace all punctuation and non-alphabetic characters in the text with spaces:"
   ]
  },
  {
   "cell_type": "code",
   "execution_count": 11,
   "metadata": {},
   "outputs": [
    {
     "data": {
      "text/html": [
       "<div>\n",
       "<style scoped>\n",
       "    .dataframe tbody tr th:only-of-type {\n",
       "        vertical-align: middle;\n",
       "    }\n",
       "\n",
       "    .dataframe tbody tr th {\n",
       "        vertical-align: top;\n",
       "    }\n",
       "\n",
       "    .dataframe thead th {\n",
       "        text-align: right;\n",
       "    }\n",
       "</style>\n",
       "<table border=\"1\" class=\"dataframe\">\n",
       "  <thead>\n",
       "    <tr style=\"text-align: right;\">\n",
       "      <th></th>\n",
       "      <th>label</th>\n",
       "      <th>title</th>\n",
       "      <th>contains_exclamation</th>\n",
       "      <th>contains_question_mark</th>\n",
       "    </tr>\n",
       "  </thead>\n",
       "  <tbody>\n",
       "    <tr>\n",
       "      <th>0</th>\n",
       "      <td>1.0</td>\n",
       "      <td>i̇hracatta türkiyenin yarısını geçti</td>\n",
       "      <td>0</td>\n",
       "      <td>0</td>\n",
       "    </tr>\n",
       "    <tr>\n",
       "      <th>1</th>\n",
       "      <td>1.0</td>\n",
       "      <td>borsa i̇stanbul günü düşüşle tamamladı</td>\n",
       "      <td>0</td>\n",
       "      <td>0</td>\n",
       "    </tr>\n",
       "    <tr>\n",
       "      <th>2</th>\n",
       "      <td>1.0</td>\n",
       "      <td>londra ve manchester uçuşlarında yolcu rekoru ...</td>\n",
       "      <td>0</td>\n",
       "      <td>0</td>\n",
       "    </tr>\n",
       "    <tr>\n",
       "      <th>3</th>\n",
       "      <td>0.0</td>\n",
       "      <td>chpli i̇lgezdiden partisine ve kılıçdaroğluna ...</td>\n",
       "      <td>0</td>\n",
       "      <td>0</td>\n",
       "    </tr>\n",
       "    <tr>\n",
       "      <th>4</th>\n",
       "      <td>0.0</td>\n",
       "      <td>vatandaşın derdine ortak olmaya soyunan bir cu...</td>\n",
       "      <td>0</td>\n",
       "      <td>0</td>\n",
       "    </tr>\n",
       "  </tbody>\n",
       "</table>\n",
       "</div>"
      ],
      "text/plain": [
       "   label                                              title  \\\n",
       "0    1.0               i̇hracatta türkiyenin yarısını geçti   \n",
       "1    1.0             borsa i̇stanbul günü düşüşle tamamladı   \n",
       "2    1.0  londra ve manchester uçuşlarında yolcu rekoru ...   \n",
       "3    0.0  chpli i̇lgezdiden partisine ve kılıçdaroğluna ...   \n",
       "4    0.0  vatandaşın derdine ortak olmaya soyunan bir cu...   \n",
       "\n",
       "   contains_exclamation  contains_question_mark  \n",
       "0                     0                       0  \n",
       "1                     0                       0  \n",
       "2                     0                       0  \n",
       "3                     0                       0  \n",
       "4                     0                       0  "
      ]
     },
     "execution_count": 11,
     "metadata": {},
     "output_type": "execute_result"
    }
   ],
   "source": [
    "def preprocess_text(text):\n",
    "\n",
    "    # remove urls\n",
    "    text = re.sub(r'^https?:\\/\\/.*[\\r\\n]*', '', text, flags=re.MULTILINE)\n",
    "    text = re.sub(r'\\w+:\\/{2}[\\d\\w-]+(\\.[\\d\\w-]+)*(?:(?:\\/[^\\s/]*))*', '', text)\n",
    "    text = re.sub('\\[.*?\\]', ' ', text)\n",
    "    text = re.sub('“','',text)\n",
    "    text = re.sub('”','',text)\n",
    "    text = re.sub('’','',text)\n",
    "    text = re.sub('–','',text)\n",
    "    text = re.sub('‘','',text)\n",
    "\n",
    "    # remove punctuation\n",
    "    text = ''.join([c for c in text if c not in punctuation])\n",
    "\n",
    "    # replace special turkish characters\n",
    "    text = re.sub(r\"Â\", \"A\", text)\n",
    "    text = re.sub(r\"â\", \"a\", text)\n",
    "    text = re.sub(r\"Î\", \"I\", text)\n",
    "    text = re.sub(r\"î\", \"ı\", text)\n",
    "    text = re.sub(r\"Û\", \"U\", text)\n",
    "    text = re.sub(r\"û\", \"u\", text)\n",
    "\n",
    "    # make text lowercase and take care of the special character 'ı'\n",
    "    text = re.sub(r\"I\", \"ı\", text)\n",
    "    text = text.lower()\n",
    "\n",
    "    # remove new line characters\n",
    "    text = re.sub(r\"\\n\", \"  \", text)\n",
    "    text = re.sub(r\"  \", \" \", text)\n",
    "    \n",
    "    return text\n",
    "\n",
    "preprocessed_text = []\n",
    "for text in df['title']:\n",
    "    preprocessed_text.append(preprocess_text(text))\n",
    "\n",
    "df['title'] = preprocessed_text\n",
    "df.head()\n",
    "\n"
   ]
  },
  {
   "cell_type": "markdown",
   "metadata": {},
   "source": [
    "This will leave us with a list of preprocessed headlines that are all lowercase, contain only alphabetic characters, and do not contain any punctuation or non-alphabetic characters. We can then use this preprocessed text as input to our machine learning model or for other analysis tasks."
   ]
  },
  {
   "cell_type": "markdown",
   "metadata": {},
   "source": [
    "In addition to punctuation marks, another feature that we might extract from the headline text is the word count. This feature can be useful for detecting clickbait headlines, as sensational headlines often use longer or more complex language to grab the reader's attention.\n",
    "\n",
    "To extract the word count feature, we can first split the headline text into individual words using the nltk library's word_tokenize function. We can then count the number of words in each headline using the len function. Here is an example of how this can be done:"
   ]
  },
  {
   "cell_type": "code",
   "execution_count": 12,
   "metadata": {},
   "outputs": [],
   "source": [
    "def extract_word_count(text):\n",
    "    words = word_tokenize(text)\n",
    "    return len(words)\n",
    "\n",
    "word_counts = []\n",
    "for text in df['title']:\n",
    "    word_counts.append(extract_word_count(text))\n"
   ]
  },
  {
   "cell_type": "markdown",
   "metadata": {},
   "source": [
    "This will give us a list of word counts for each headline, which we can then add to the dataset as a new column named \"word_count\". We can then use this feature as input to our machine learning model or for other analysis tasks."
   ]
  },
  {
   "cell_type": "code",
   "execution_count": 13,
   "metadata": {},
   "outputs": [
    {
     "data": {
      "text/html": [
       "<div>\n",
       "<style scoped>\n",
       "    .dataframe tbody tr th:only-of-type {\n",
       "        vertical-align: middle;\n",
       "    }\n",
       "\n",
       "    .dataframe tbody tr th {\n",
       "        vertical-align: top;\n",
       "    }\n",
       "\n",
       "    .dataframe thead th {\n",
       "        text-align: right;\n",
       "    }\n",
       "</style>\n",
       "<table border=\"1\" class=\"dataframe\">\n",
       "  <thead>\n",
       "    <tr style=\"text-align: right;\">\n",
       "      <th></th>\n",
       "      <th>label</th>\n",
       "      <th>title</th>\n",
       "      <th>contains_exclamation</th>\n",
       "      <th>contains_question_mark</th>\n",
       "      <th>word_count</th>\n",
       "    </tr>\n",
       "  </thead>\n",
       "  <tbody>\n",
       "    <tr>\n",
       "      <th>0</th>\n",
       "      <td>1.0</td>\n",
       "      <td>i̇hracatta türkiyenin yarısını geçti</td>\n",
       "      <td>0</td>\n",
       "      <td>0</td>\n",
       "      <td>4</td>\n",
       "    </tr>\n",
       "    <tr>\n",
       "      <th>1</th>\n",
       "      <td>1.0</td>\n",
       "      <td>borsa i̇stanbul günü düşüşle tamamladı</td>\n",
       "      <td>0</td>\n",
       "      <td>0</td>\n",
       "      <td>5</td>\n",
       "    </tr>\n",
       "    <tr>\n",
       "      <th>2</th>\n",
       "      <td>1.0</td>\n",
       "      <td>londra ve manchester uçuşlarında yolcu rekoru ...</td>\n",
       "      <td>0</td>\n",
       "      <td>0</td>\n",
       "      <td>7</td>\n",
       "    </tr>\n",
       "    <tr>\n",
       "      <th>3</th>\n",
       "      <td>0.0</td>\n",
       "      <td>chpli i̇lgezdiden partisine ve kılıçdaroğluna ...</td>\n",
       "      <td>0</td>\n",
       "      <td>0</td>\n",
       "      <td>13</td>\n",
       "    </tr>\n",
       "    <tr>\n",
       "      <th>4</th>\n",
       "      <td>0.0</td>\n",
       "      <td>vatandaşın derdine ortak olmaya soyunan bir cu...</td>\n",
       "      <td>0</td>\n",
       "      <td>0</td>\n",
       "      <td>11</td>\n",
       "    </tr>\n",
       "  </tbody>\n",
       "</table>\n",
       "</div>"
      ],
      "text/plain": [
       "   label                                              title  \\\n",
       "0    1.0               i̇hracatta türkiyenin yarısını geçti   \n",
       "1    1.0             borsa i̇stanbul günü düşüşle tamamladı   \n",
       "2    1.0  londra ve manchester uçuşlarında yolcu rekoru ...   \n",
       "3    0.0  chpli i̇lgezdiden partisine ve kılıçdaroğluna ...   \n",
       "4    0.0  vatandaşın derdine ortak olmaya soyunan bir cu...   \n",
       "\n",
       "   contains_exclamation  contains_question_mark  word_count  \n",
       "0                     0                       0           4  \n",
       "1                     0                       0           5  \n",
       "2                     0                       0           7  \n",
       "3                     0                       0          13  \n",
       "4                     0                       0          11  "
      ]
     },
     "execution_count": 13,
     "metadata": {},
     "output_type": "execute_result"
    }
   ],
   "source": [
    "df['word_count'] = word_counts\n",
    "\n",
    "df.head()"
   ]
  },
  {
   "cell_type": "markdown",
   "metadata": {},
   "source": [
    "Lastly, we can put the label column at the end of the dataset for better visualization."
   ]
  },
  {
   "cell_type": "code",
   "execution_count": 14,
   "metadata": {},
   "outputs": [
    {
     "data": {
      "text/html": [
       "<div>\n",
       "<style scoped>\n",
       "    .dataframe tbody tr th:only-of-type {\n",
       "        vertical-align: middle;\n",
       "    }\n",
       "\n",
       "    .dataframe tbody tr th {\n",
       "        vertical-align: top;\n",
       "    }\n",
       "\n",
       "    .dataframe thead th {\n",
       "        text-align: right;\n",
       "    }\n",
       "</style>\n",
       "<table border=\"1\" class=\"dataframe\">\n",
       "  <thead>\n",
       "    <tr style=\"text-align: right;\">\n",
       "      <th></th>\n",
       "      <th>title</th>\n",
       "      <th>contains_exclamation</th>\n",
       "      <th>contains_question_mark</th>\n",
       "      <th>word_count</th>\n",
       "      <th>label</th>\n",
       "    </tr>\n",
       "  </thead>\n",
       "  <tbody>\n",
       "    <tr>\n",
       "      <th>0</th>\n",
       "      <td>i̇hracatta türkiyenin yarısını geçti</td>\n",
       "      <td>0</td>\n",
       "      <td>0</td>\n",
       "      <td>4</td>\n",
       "      <td>1.0</td>\n",
       "    </tr>\n",
       "    <tr>\n",
       "      <th>1</th>\n",
       "      <td>borsa i̇stanbul günü düşüşle tamamladı</td>\n",
       "      <td>0</td>\n",
       "      <td>0</td>\n",
       "      <td>5</td>\n",
       "      <td>1.0</td>\n",
       "    </tr>\n",
       "    <tr>\n",
       "      <th>2</th>\n",
       "      <td>londra ve manchester uçuşlarında yolcu rekoru ...</td>\n",
       "      <td>0</td>\n",
       "      <td>0</td>\n",
       "      <td>7</td>\n",
       "      <td>1.0</td>\n",
       "    </tr>\n",
       "    <tr>\n",
       "      <th>3</th>\n",
       "      <td>chpli i̇lgezdiden partisine ve kılıçdaroğluna ...</td>\n",
       "      <td>0</td>\n",
       "      <td>0</td>\n",
       "      <td>13</td>\n",
       "      <td>0.0</td>\n",
       "    </tr>\n",
       "    <tr>\n",
       "      <th>4</th>\n",
       "      <td>vatandaşın derdine ortak olmaya soyunan bir cu...</td>\n",
       "      <td>0</td>\n",
       "      <td>0</td>\n",
       "      <td>11</td>\n",
       "      <td>0.0</td>\n",
       "    </tr>\n",
       "  </tbody>\n",
       "</table>\n",
       "</div>"
      ],
      "text/plain": [
       "                                               title  contains_exclamation  \\\n",
       "0               i̇hracatta türkiyenin yarısını geçti                     0   \n",
       "1             borsa i̇stanbul günü düşüşle tamamladı                     0   \n",
       "2  londra ve manchester uçuşlarında yolcu rekoru ...                     0   \n",
       "3  chpli i̇lgezdiden partisine ve kılıçdaroğluna ...                     0   \n",
       "4  vatandaşın derdine ortak olmaya soyunan bir cu...                     0   \n",
       "\n",
       "   contains_question_mark  word_count  label  \n",
       "0                       0           4    1.0  \n",
       "1                       0           5    1.0  \n",
       "2                       0           7    1.0  \n",
       "3                       0          13    0.0  \n",
       "4                       0          11    0.0  "
      ]
     },
     "execution_count": 14,
     "metadata": {},
     "output_type": "execute_result"
    }
   ],
   "source": [
    "df = df[['title', 'contains_exclamation', 'contains_question_mark', 'word_count', 'label']]\n",
    "\n",
    "df.head()"
   ]
  },
  {
   "cell_type": "markdown",
   "metadata": {},
   "source": [
    "# 5. Exploratory Data Analysis (EDA)\n",
    "\n",
    "Exploratory Data Analysis (EDA) is an approach to analyzing data that is focused on understanding the patterns and relationships in the data, and identifying any potential biases or anomalies. EDA is typically an iterative process, in which the analyst repeatedly examines the data, generates hypotheses, and tests those hypotheses using statistical techniques or visualizations.\n",
    "\n",
    "The goal of EDA is to gain a deeper understanding of the data and to identify any interesting or unexpected patterns that might be worth further investigation. This understanding can then inform the development of machine learning models or other analysis tasks.\n",
    "\n",
    "In the context of this clickbait detection project, EDA might involve examining the distribution of clickbait and non-clickbait headlines in the dataset, looking for any patterns or trends that might be correlated with clickbait status. It might also involve exploring the characteristics of the headline text, such as the length of the headlines, the presence or absence of certain words or phrases, or the use of certain punctuation marks. By doing EDA, we can gain insights into the properties of the data that might be useful for building an effective clickbait detection system."
   ]
  },
  {
   "cell_type": "markdown",
   "metadata": {},
   "source": [
    "## 5.1. Distribution of Clickbait and Non-Clickbait Headlines\n",
    "\n",
    "One simple way to do this is to use a histogram or bar plot to visualize the counts of clickbait and non-clickbait headlines. This can give us a sense of the overall balance of the dataset and whether there are any imbalances that might need to be addressed."
   ]
  },
  {
   "cell_type": "code",
   "execution_count": 15,
   "metadata": {},
   "outputs": [
    {
     "data": {
      "image/png": "[encoded data removed]",
      "text/plain": [
       "<Figure size 432x288 with 1 Axes>"
      ]
     },
     "metadata": {
      "needs_background": "light"
     },
     "output_type": "display_data"
    },
    {
     "data": {
      "text/plain": [
       "<Figure size 432x288 with 0 Axes>"
      ]
     },
     "metadata": {},
     "output_type": "display_data"
    }
   ],
   "source": [
    "# Count the number of clickbait and non-clickbait headlines\n",
    "clickbait_count = df[df['label'] == 1].shape[0]\n",
    "non_clickbait_count = df[df['label'] == 0].shape[0]\n",
    "\n",
    "# Set the labels and data for the bar plot\n",
    "labels = ['Clickbait', 'Non-clickbait']\n",
    "data = [clickbait_count, non_clickbait_count]\n",
    "\n",
    "# Create the bar plot\n",
    "plt.bar(labels, data)\n",
    "plt.title('Clickbait vs. Non-clickbait Headlines')\n",
    "plt.ylabel('Count')\n",
    "\n",
    "# Show the plot\n",
    "plt.show()\n",
    "\n",
    "# Save the plot\n",
    "\n",
    "plt.savefig('clickbait_vs_non_clickbait.png')\n"
   ]
  },
  {
   "cell_type": "markdown",
   "metadata": {},
   "source": [
    "We can say that the dataset is well distributed and there is no imbalance."
   ]
  },
  {
   "cell_type": "markdown",
   "metadata": {},
   "source": [
    "## 5.2. Distribution of Headline Length\n",
    "\n",
    "To visualize the distribution of headline lengths in the dataset, we can use a histogram or a box plot. Now let's create a box plot using seaborn library:"
   ]
  },
  {
   "cell_type": "code",
   "execution_count": 16,
   "metadata": {},
   "outputs": [
    {
     "data": {
      "image/png": "[encoded data removed]",
      "text/plain": [
       "<Figure size 432x288 with 1 Axes>"
      ]
     },
     "metadata": {
      "needs_background": "light"
     },
     "output_type": "display_data"
    },
    {
     "data": {
      "text/plain": [
       "<Figure size 432x288 with 0 Axes>"
      ]
     },
     "metadata": {},
     "output_type": "display_data"
    }
   ],
   "source": [
    "import seaborn as sns\n",
    "\n",
    "# Extract the headline lengths\n",
    "headline_lengths = [len(text) for text in df['title']]\n",
    "\n",
    "# Create the box plot\n",
    "sns.boxplot(x=headline_lengths)\n",
    "plt.title('Headline Length Distribution')\n",
    "plt.xlabel('Headline Length')\n",
    "\n",
    "# Show the plot\n",
    "plt.show()\n",
    "\n",
    "# Save the plot\n",
    "plt.savefig('headline_length_distribution.png')"
   ]
  },
  {
   "cell_type": "markdown",
   "metadata": {},
   "source": [
    "This will create a box plot showing the distribution of headline lengths in the dataset. The headline_lengths variable contains the lengths of the headlines, which are calculated using the len function. The sns.boxplot function is used to create the box plot, and the plt.title and plt.xlabel functions are used to add labels to the plot. The plt.show function is used to display the plot."
   ]
  },
  {
   "cell_type": "markdown",
   "metadata": {},
   "source": [
    "## 5.3. Distribution of Common Words\n",
    "\n",
    "To create a word cloud or a word frequency plot to visualize the most common words or phrases in the dataset, we can use the nltk library and the wordcloud library.\n"
   ]
  },
  {
   "cell_type": "code",
   "execution_count": 17,
   "metadata": {},
   "outputs": [
    {
     "data": {
      "image/png": "[encoded data removed]",
      "text/plain": [
       "<Figure size 432x288 with 1 Axes>"
      ]
     },
     "metadata": {
      "needs_background": "light"
     },
     "output_type": "display_data"
    },
    {
     "data": {
      "text/plain": [
       "<Figure size 432x288 with 0 Axes>"
      ]
     },
     "metadata": {},
     "output_type": "display_data"
    }
   ],
   "source": [
    "# Join all the headlines into a single string\n",
    "text = ' '.join(df['title'])\n",
    "\n",
    "# Create the word cloud\n",
    "wordcloud = WordCloud().generate(text)\n",
    "\n",
    "# Show the word cloud\n",
    "plt.imshow(wordcloud, interpolation='bilinear')\n",
    "plt.axis(\"off\")\n",
    "plt.show()\n",
    "\n",
    "# Save the word cloud\n",
    "plt.savefig('word_cloud.png')\n"
   ]
  },
  {
   "cell_type": "markdown",
   "metadata": {},
   "source": [
    "## 5.4. Distribution of Punctuation Marks\n",
    "\n",
    "To visualize the use of punctuation marks in the headlines, we can create a pie chart using matplotlib:"
   ]
  },
  {
   "cell_type": "code",
   "execution_count": 18,
   "metadata": {},
   "outputs": [
    {
     "data": {
      "image/png": "[encoded data removed]",
      "text/plain": [
       "<Figure size 432x288 with 1 Axes>"
      ]
     },
     "metadata": {},
     "output_type": "display_data"
    },
    {
     "data": {
      "text/plain": [
       "<Figure size 432x288 with 0 Axes>"
      ]
     },
     "metadata": {},
     "output_type": "display_data"
    }
   ],
   "source": [
    "# Count the number of headlines with and without exclamation marks\n",
    "has_exclamation = df[df['contains_exclamation'] == 1].shape[0]\n",
    "no_exclamation = df[df['contains_exclamation'] == 0].shape[0]\n",
    "\n",
    "# Set the labels and data for the pie chart\n",
    "labels = ['Contains Exclamation', 'Does Not Contain Exclamation']\n",
    "data = [has_exclamation, no_exclamation]\n",
    "\n",
    "# Create the pie chart\n",
    "plt.pie(data, labels=labels, autopct='%1.1f%%')\n",
    "plt.title('Proportion of Headlines with Exclamation Marks')\n",
    "\n",
    "# Show the plot\n",
    "plt.show()\n",
    "\n",
    "# Save the plot\n",
    "plt.savefig('exclamation_pie_chart.png')"
   ]
  },
  {
   "cell_type": "markdown",
   "metadata": {},
   "source": [
    "We can do the same for question marks."
   ]
  },
  {
   "cell_type": "code",
   "execution_count": 19,
   "metadata": {},
   "outputs": [
    {
     "data": {
      "image/png": "[encoded data removed]",
      "text/plain": [
       "<Figure size 432x288 with 1 Axes>"
      ]
     },
     "metadata": {},
     "output_type": "display_data"
    },
    {
     "data": {
      "text/plain": [
       "<Figure size 432x288 with 0 Axes>"
      ]
     },
     "metadata": {},
     "output_type": "display_data"
    }
   ],
   "source": [
    "# Count the number of headlines with and without exclamation marks\n",
    "has_question_mark = df[df['contains_question_mark'] == 1].shape[0]\n",
    "no_question_mark = df[df['contains_question_mark'] == 0].shape[0]\n",
    "\n",
    "# Set the labels and data for the pie chart\n",
    "labels = ['Contains Question Mark', 'Does Not Contain Question Mark']\n",
    "data = [has_question_mark, no_question_mark]\n",
    "\n",
    "# Create the pie chart\n",
    "plt.pie(data, labels=labels, autopct='%1.1f%%')\n",
    "plt.title('Proportion of Headlines with Question Marks')\n",
    "\n",
    "# Show the plot\n",
    "plt.show()\n",
    "\n",
    "# Save the plot\n",
    "plt.savefig('question_pie_chart.png')"
   ]
  },
  {
   "cell_type": "markdown",
   "metadata": {},
   "source": [
    "# 6. Model Building\n",
    "\n",
    "We can start building our machine learning models. We are going to use several different machine learning models and compare their performance. We are going to use the following models:\n",
    "\n",
    "- **Logistic Regression** is a simple and widely-used classification algorithm that is suitable for binary classification tasks, such as clickbait detection. It is a linear model that uses an equation to make predictions based on the input features, and it is easy to interpret and implement.\n",
    "\n",
    "- **Naive Bayes** is another simple and popular classification algorithm that is based on the idea of applying Bayes' theorem with strong (naive) independence assumptions between the features. It is often used for text classification tasks and is known to be a fast and accurate classifier.\n",
    "\n",
    "- **Support Vector Machine** is a powerful and versatile classification algorithm that can work well on a wide range of datasets. It uses a technique called the kernel trick to transform the data into a higher-dimensional space, where it can be separated by a hyperplane. SVM can handle datasets with high-dimensional features and can perform well even when the number of examples is small compared to the number of features.\n",
    "\n",
    "- **Random Forest** is an ensemble learning method that combines multiple decision trees to make predictions. It is a powerful and robust classifier that can handle high-dimensional and noisy data, and it is resistant to overfitting."
   ]
  },
  {
   "attachments": {},
   "cell_type": "markdown",
   "metadata": {},
   "source": [
    "## 6.1 Choosing the Best Model\n",
    "\n",
    "To choose the best machine learning model for the Turkish news dataset, we can use a for loop to train and evaluate multiple models using 10-fold cross-validation and the accuracy metric.\n"
   ]
  },
  {
   "attachments": {},
   "cell_type": "markdown",
   "metadata": {},
   "source": [
    "## 6.1.1. Splitting the Dataset\n",
    "\n",
    "Before we can train and evaluate the machine learning models, we need to split the dataset into training and test sets. We can do this using the train_test_split function from the sklearn.model_selection module."
   ]
  },
  {
   "cell_type": "code",
   "execution_count": 20,
   "metadata": {},
   "outputs": [],
   "source": [
    "X = df.drop(columns='label')\n",
    "y = df['label']\n",
    "\n",
    "X_train, X_test, y_train, y_test = train_test_split(X, y, test_size=0.2, random_state=42)"
   ]
  },
  {
   "attachments": {},
   "cell_type": "markdown",
   "metadata": {},
   "source": [
    "## 6.1.2. Vectorizing the Dataset\n",
    "\n",
    "To convert the text data in the Turkish news dataset into a meaningful representation for machine learning models, we can use the TfidfVectorizer from the sklearn.feature_extraction.text module."
   ]
  },
  {
   "cell_type": "code",
   "execution_count": 21,
   "metadata": {},
   "outputs": [],
   "source": [
    "tfidf = TfidfVectorizer(stop_words = stopwords.words('turkish'),ngram_range = (1,2))\n",
    "tfidf_text_train = tfidf.fit_transform(X_train['title'])\n",
    "tfidf_text_test = tfidf.transform(X_test['title'])\n",
    "\n",
    "X_train_ef = X_train.drop(columns='title')\n",
    "X_test_ef = X_test.drop(columns='title')"
   ]
  },
  {
   "cell_type": "markdown",
   "metadata": {},
   "source": [
    "Now we can combine the features we created with the TfidfVectorizer output."
   ]
  },
  {
   "cell_type": "code",
   "execution_count": 22,
   "metadata": {},
   "outputs": [
    {
     "data": {
      "text/plain": [
       "(4008, 132254)"
      ]
     },
     "execution_count": 22,
     "metadata": {},
     "output_type": "execute_result"
    }
   ],
   "source": [
    "X_train = sparse.hstack([X_train_ef, tfidf_text_train]).tocsr()\n",
    "X_test = sparse.hstack([X_test_ef, tfidf_text_test]).tocsr()\n",
    "\n",
    "X_train.shape\n",
    "X_test.shape"
   ]
  },
  {
   "attachments": {},
   "cell_type": "markdown",
   "metadata": {},
   "source": [
    "## 6.1.3. Training and Evaluating the Models\n",
    "\n",
    "In this section, we train and evaluate the machine learning models that we have selected for the clickbait detection task using the Turkish news dataset. This involves splitting the dataset into training and test sets, training the models on the training set, and evaluating their performance on the test set.\n",
    "\n",
    "We compare the performance of the models using various evaluation metrics, such as accuracy, precision, recall, and f1-score. We may also use cross-validation to get a more robust estimate of the models' performance.\n",
    "\n",
    "After training and evaluating the models, we can compare their performance and choose the one that performs the best. We may also need to fine-tune the hyperparameters of the chosen model to further improve its performance.\n"
   ]
  },
  {
   "cell_type": "code",
   "execution_count": 23,
   "metadata": {},
   "outputs": [
    {
     "name": "stdout",
     "output_type": "stream",
     "text": [
      "Model: LogisticRegression\n",
      "Accuracy: 0.867\n",
      "Confusion Matrix:\n",
      "[[1695  309]\n",
      " [ 224 1780]]\n",
      "Classification Report:\n",
      "              precision    recall  f1-score   support\n",
      "\n",
      "         0.0       0.88      0.85      0.86      2004\n",
      "         1.0       0.85      0.89      0.87      2004\n",
      "\n",
      "    accuracy                           0.87      4008\n",
      "   macro avg       0.87      0.87      0.87      4008\n",
      "weighted avg       0.87      0.87      0.87      4008\n",
      "\n",
      "--------------------------------------------------\n",
      "Model: MultinomialNB\n",
      "Accuracy: 0.692\n",
      "Confusion Matrix:\n",
      "[[1991   13]\n",
      " [1223  781]]\n",
      "Classification Report:\n",
      "              precision    recall  f1-score   support\n",
      "\n",
      "         0.0       0.62      0.99      0.76      2004\n",
      "         1.0       0.98      0.39      0.56      2004\n",
      "\n",
      "    accuracy                           0.69      4008\n",
      "   macro avg       0.80      0.69      0.66      4008\n",
      "weighted avg       0.80      0.69      0.66      4008\n",
      "\n",
      "--------------------------------------------------\n",
      "Model: LinearSVC\n",
      "Accuracy: 0.869\n",
      "Confusion Matrix:\n",
      "[[1721  283]\n",
      " [ 242 1762]]\n",
      "Classification Report:\n",
      "              precision    recall  f1-score   support\n",
      "\n",
      "         0.0       0.88      0.86      0.87      2004\n",
      "         1.0       0.86      0.88      0.87      2004\n",
      "\n",
      "    accuracy                           0.87      4008\n",
      "   macro avg       0.87      0.87      0.87      4008\n",
      "weighted avg       0.87      0.87      0.87      4008\n",
      "\n",
      "--------------------------------------------------\n",
      "Model: RandomForestClassifier\n",
      "Accuracy: 0.849\n",
      "Confusion Matrix:\n",
      "[[1536  468]\n",
      " [ 137 1867]]\n",
      "Classification Report:\n",
      "              precision    recall  f1-score   support\n",
      "\n",
      "         0.0       0.92      0.77      0.84      2004\n",
      "         1.0       0.80      0.93      0.86      2004\n",
      "\n",
      "    accuracy                           0.85      4008\n",
      "   macro avg       0.86      0.85      0.85      4008\n",
      "weighted avg       0.86      0.85      0.85      4008\n",
      "\n",
      "--------------------------------------------------\n"
     ]
    }
   ],
   "source": [
    "# Define the models\n",
    "lr_model = LogisticRegression(max_iter=10000)\n",
    "nb_model = MultinomialNB()\n",
    "svm_model = LinearSVC(max_iter=100000)\n",
    "rf_model = RandomForestClassifier()\n",
    "\n",
    "# Define the list of models to evaluate\n",
    "models = [lr_model, nb_model, svm_model, rf_model]\n",
    "\n",
    "# Evaluate each model\n",
    "for model in models:\n",
    "    # Fit the model to the training data\n",
    "    model.fit(X_train, y_train)\n",
    "    \n",
    "    # Make predictions on the test data\n",
    "    y_pred = model.predict(X_test)\n",
    "    \n",
    "    # Print the results\n",
    "\n",
    "    print(f'Model: {model.__class__.__name__}')\n",
    "    print(f'Accuracy: {accuracy_score(y_test, y_pred):.3f}')\n",
    "    print(f'Confusion Matrix:')\n",
    "    print(confusion_matrix(y_test, y_pred))\n",
    "    print(f'Classification Report:')\n",
    "    print(classification_report(y_test, y_pred))\n",
    "    print('--------------------------------------------------')\n",
    "    \n"
   ]
  },
  {
   "cell_type": "markdown",
   "metadata": {},
   "source": [
    "Based on the results, it seems that the logistic regression and linear SVC models performed the best on the Turkish news dataset, with accuracy scores of 0.867 and 0.869, respectively. These models also had the highest f1-scores for both classes, indicating that they had a good balance of precision and recall. The random forest classifier also performed well, with an accuracy score of 0.850 and relatively high f1-scores for both classes.\n",
    "\n",
    "On the other hand, the naive Bayes model had the lowest accuracy score of 0.692 and relatively low f1-scores for both classes. This suggests that it may not be the most suitable model for this task.\n",
    "\n",
    "Overall, these results suggests us that the **Logistic Regression, Linear SVC** models are good candidates for detecting clickbait headlines in Turkish news articles. It may be worth further fine-tuning the hyperparameters of these models to see if their performance can be improved.\n",
    "\n",
    "So, from now on, we will only consider these two models."
   ]
  },
  {
   "cell_type": "markdown",
   "metadata": {},
   "source": [
    "## 6.1.4. Cross Validation\n",
    "\n",
    "Cross-validation is a useful technique to evaluate the performance of a machine learning model on a dataset. It helps to reduce the variance of a model's performance estimate, which makes it more reliable.\n",
    "\n",
    "When we train a model on a given dataset and evaluate its performance, the model's performance may vary depending on the specific split of the data into training and test sets. This is called the variance of the model's performance estimate.\n",
    "\n",
    "Cross-validation helps to reduce this variance by training the model on different splits of the data and averaging the performance across the different splits. This gives us a more robust estimate of the model's performance, which is less sensitive to the specific split of the data.\n",
    "\n",
    "For example, in 10-fold cross-validation, we split the data into 10 folds and train the model 10 times, each time using a different fold as the test set and the remaining folds as the training set. The model's performance is then averaged across the 10 different evaluations.\n",
    "\n",
    "Cross-validation is especially useful when we have a small dataset, as it allows us to use more of the data for training and evaluation, which can lead to a better model.\n",
    "\n",
    "To perform cross-validation for the **Logistic Regression** and **linear SVC** models, we can use the cross_val_score function from scikit-learn's model_selection module."
   ]
  },
  {
   "cell_type": "code",
   "execution_count": 24,
   "metadata": {},
   "outputs": [
    {
     "name": "stdout",
     "output_type": "stream",
     "text": [
      "Mean score: 0.860\n",
      "Standard deviation: 0.012\n"
     ]
    }
   ],
   "source": [
    "# Define the logistic regression model\n",
    "lr_model = LogisticRegression(max_iter=100000)\n",
    "\n",
    "# Perform 10-fold cross-validation on the model\n",
    "scores = cross_val_score(lr_model, X_train, y_train, cv=10)\n",
    "\n",
    "# Print the mean and standard deviation of the scores\n",
    "print(f'Mean score: {scores.mean():.3f}')\n",
    "print(f'Standard deviation: {scores.std():.3f}')\n"
   ]
  },
  {
   "cell_type": "code",
   "execution_count": 25,
   "metadata": {},
   "outputs": [
    {
     "name": "stdout",
     "output_type": "stream",
     "text": [
      "Mean score: 0.880\n",
      "Standard deviation: 0.012\n"
     ]
    }
   ],
   "source": [
    "# Define the linear SVC model\n",
    "svm_model = LinearSVC(max_iter=100000)\n",
    "\n",
    "# Perform 10-fold cross-validation on the model\n",
    "scores = cross_val_score(svm_model, X_train, y_train, cv=10)\n",
    "\n",
    "# Print the mean and standard deviation of the scores\n",
    "print(f'Mean score: {scores.mean():.3f}')\n",
    "print(f'Standard deviation: {scores.std():.3f}')"
   ]
  },
  {
   "cell_type": "markdown",
   "metadata": {},
   "source": [
    "The results of the cross-validation show that both Logistic Regression and Linear SVC perform well on the dataset, with mean scores of 0.860 and 0.880, respectively. The standard deviation of the scores is small, which means that the model's performance is consistent across different splits of the data.\n",
    "\n",
    "Both models seem to be suitable for this dataset, but **Linear SVC** seems to have a slightly higher mean score and lower standard deviation, which indicates that it may be a slightly better choice."
   ]
  },
  {
   "cell_type": "markdown",
   "metadata": {},
   "source": [
    "## 6.1.5. Hyperparameter Tuning\n",
    "\n",
    "To further improve the performance of Linear SVC, we can try to optimize its hyperparameters. Hyperparameters are the parameters of a machine learning model that are not learned from the training data, but are set by the practitioner.\n",
    "\n",
    "Optimizing the hyperparameters of a model can help to improve its performance on the dataset, but it can also be time-consuming and require a lot of trial and error.\n",
    "\n",
    "One way to optimize the hyperparameters of a model is to use grid search. Grid search is a method of systematically training and evaluating a model for a range of different hyperparameter values, and selecting the best combination of values based on the model's performance.\n",
    "\n",
    "To use grid search for Linear SVC, we can define a grid of hyperparameter values that we want to explore, and use the GridSearchCV function from sklearn to perform the search.\n",
    "\n",
    "For example, the following code defines a grid of values for the C hyperparameter of Linear SVC, and performs a 10-fold cross-validation for each combination of values:"
   ]
  },
  {
   "cell_type": "code",
   "execution_count": 26,
   "metadata": {},
   "outputs": [
    {
     "name": "stdout",
     "output_type": "stream",
     "text": [
      "{'C': 1, 'penalty': 'l2'}\n",
      "0.8795239964392607\n"
     ]
    }
   ],
   "source": [
    "# Define the hyperparameter grid\n",
    "param_grid = {'C': [0.1, 1, 10, 100, 1000],\n",
    "              'penalty': ['l1', 'l2']\n",
    "             }\n",
    "\n",
    "\n",
    "# Create a GridSearchCV object\n",
    "grid = GridSearchCV(LinearSVC(max_iter=100000), param_grid, cv=10)\n",
    "\n",
    "# Fit the model to the training data\n",
    "grid.fit(X_train, y_train)\n",
    "\n",
    "# Print the best hyperparameters\n",
    "print(grid.best_params_)\n",
    "\n",
    "# Print the best score\n",
    "print(grid.best_score_)\n"
   ]
  },
  {
   "cell_type": "markdown",
   "metadata": {},
   "source": [
    "## 6.1.6. Evaluate the Performance of the Tuned Model Using Test Data\n",
    "\n",
    "Now we can evaluate the performance of the tuned LinearSVC model on the test data. The test data is a set of data that the model has not seen before, and it is used to get an unbiased evaluation of the model's performance. By evaluating the model on the test data, we can see how well the model generalizes to new, unseen data. This is important because we want to make sure that the model is not overfitting to the training data, and that it can make accurate predictions on new, unseen data. By using the confusion matrix, we can get a better understanding of the model's performance, including the number of false positives and false negatives, and the overall accuracy of the model."
   ]
  },
  {
   "cell_type": "code",
   "execution_count": 27,
   "metadata": {},
   "outputs": [
    {
     "name": "stdout",
     "output_type": "stream",
     "text": [
      "Accuracy: 0.869\n",
      "Classification Report:\n",
      "              precision    recall  f1-score   support\n",
      "\n",
      "         0.0       0.88      0.86      0.87      2004\n",
      "         1.0       0.86      0.88      0.87      2004\n",
      "\n",
      "    accuracy                           0.87      4008\n",
      "   macro avg       0.87      0.87      0.87      4008\n",
      "weighted avg       0.87      0.87      0.87      4008\n",
      "\n",
      "True Negatives: 1721\n",
      "False Positives: 283\n",
      "False Negatives: 242\n",
      "True Positives: 1762\n"
     ]
    },
    {
     "data": {
      "image/png": "[encoded data removed]",
      "text/plain": [
       "<Figure size 432x288 with 2 Axes>"
      ]
     },
     "metadata": {},
     "output_type": "display_data"
    }
   ],
   "source": [
    "# Instantiate the LinearSVC model with the optimized hyperparameters\n",
    "optimal_svc = LinearSVC(**grid.best_params_, max_iter=100000)\n",
    "\n",
    "# Fit the model to the training data\n",
    "optimal_svc.fit(X_train, y_train)\n",
    "\n",
    "# Make predictions on the test data\n",
    "y_pred = optimal_svc.predict(X_test)\n",
    "\n",
    "# Print the results\n",
    "print(f'Accuracy: {accuracy_score(y_test, y_pred):.3f}')\n",
    "print(f'Classification Report:')\n",
    "print(classification_report(y_test, y_pred))\n",
    "\n",
    "# Compute the confusion matrix values\n",
    "tn, fp, fn, tp = confusion_matrix(y_test, y_pred).ravel()\n",
    "\n",
    "# Plot the confusion matrix using seaborn\n",
    "sns.set(font_scale=1.5)\n",
    "cm = confusion_matrix(y_test, y_pred)\n",
    "sns.heatmap(cm, annot=True, fmt=\"d\")\n",
    "plt.title(\"Confusion Matrix\")\n",
    "plt.xlabel(\"Predicted Label\")\n",
    "plt.ylabel(\"True Label\")\n",
    "\n",
    "# Print the confusion matrix values\n",
    "print(\"True Negatives:\", tn)\n",
    "print(\"False Positives:\", fp)\n",
    "print(\"False Negatives:\", fn)\n",
    "print(\"True Positives:\", tp)\n",
    "\n",
    "# Show the plot\n",
    "plt.show()"
   ]
  },
  {
   "cell_type": "markdown",
   "metadata": {},
   "source": [
    "Overall, the performance of the model seems to be quite good. The accuracy score is 87%, which means that the model is able to correctly classify headlines as clickbait or non-clickbait with a high degree of accuracy.\n",
    "\n",
    "In terms of the confusion matrix, we can see that the model is able to correctly classify 1721 headlines as non-clickbait (True Negatives) and 1762 headlines as clickbait (True Positives). However, there are also 283 headlines that were incorrectly classified as clickbait (False Positives) and 242 headlines that were incorrectly classified as non-clickbait (False Negatives).\n",
    "\n",
    "The classification report provides more detailed information about the performance of the model. In particular, the precision, recall, and f1-score for both clickbait and non-clickbait headlines are quite high, indicating that the model is performing well in terms of both precision (minimizing false positives) and recall (minimizing false negatives)."
   ]
  },
  {
   "cell_type": "markdown",
   "metadata": {},
   "source": [
    "# 7. Conclusion\n",
    "\n",
    "In this project, we built a clickbait detector using machine learning techniques. We started by collecting and preprocessing the data, then we moved on to exploring the data to gain insights and find patterns. We tried several machine learning models and compared their performance using cross-validation and evaluation metrics such as accuracy, precision, recall, and f1-score. Finally, we tuned the hyperparameters of the Linear Support Vector Classification (LinearSVC) model to improve its performance on the test data. The tuned LinearSVC model achieved an accuracy of 87% on the test data, which is a good result for this task. Overall, this project demonstrated the power of machine learning in solving real-world problems, and how careful and thorough data preprocessing and model selection and tuning can lead to successful results.\n",
    "\n",
    "## 7.1. Further Possible Steps\n",
    "\n",
    "- **Collect more data:** The more data we have, the better our model will perform.\n",
    "\n",
    "- **Use advanced techniques for feature engineering:** In this project, we only extracted a few features from the text. However, there are many more advanced techniques that can be used to extract meaningful features from text, such as word embeddings, named entity recognition, and sentiment analysis.\n",
    "\n",
    "- **Use advanced machine learning algorithms:** While we used relatively simple machine learning algorithms in this project, there are many more advanced algorithms that can be used to improve the performance of the model, such as deep learning techniques.\n",
    "\n",
    "- **Use ensembles:** Ensemble techniques involve combining the predictions of multiple models to improve the overall performance. This can be done by voting, averaging, or weighting the predictions of the individual models.\n",
    "\n",
    "- **Deploy the model as a service:** Finally, we could export it as a pickled file and use it in a web application. The application could accept a headline as input, and use the trained model to predict whether or not it is a clickbait. This could be a useful tool for helping people identify and avoid clickbait headlines online.\n",
    "\n",
    "## 7.2. Self-critical Assessment\n",
    "\n",
    "One of the most challenging aspects of this project was preprocessing the text data. Cleaning and preparing the text for analysis required a lot of effort and time. However, this was also one of the strong aspects of our analysis, as the quality of the input data greatly affects the accuracy of the model.\n",
    "\n",
    "Another strong aspect of our analysis was the comprehensive evaluation of multiple machine learning models. By comparing the performance of different models, we were able to choose the best one for our dataset.\n",
    "\n",
    "Our approach was original and creative in that we utilized several feature engineering techniques, such as extracting exclamations and question marks, and counting the number of words in the headlines. This helped us to create a more meaningful representation of the text data for the machine learning models.\n",
    "\n",
    "One of the weak points of our approach was the lack of fine-tuning the hyperparameters of the chosen models. While we did perform some hyperparameter tuning for LinearSVC, we did not do the same for the other models. This may have resulted in suboptimal performance for those models.\n",
    "\n",
    "To further elaborate our method, we could have also tried more advanced techniques such as deep learning or natural language processing. Additionally, we could have used a larger and more diverse dataset to improve the generalizability of our model."
   ]
  },
  {
   "attachments": {},
   "cell_type": "markdown",
   "metadata": {},
   "source": [
    "# Thanks!\n",
    "\n",
    "You can find the full code for this project on my [GitHub](https://github.com/merttezcan/clickbait-detection-turkish-news)."
   ]
  }
 ],
 "metadata": {
  "kernelspec": {
   "display_name": "Python 3 (ipykernel)",
   "language": "python",
   "name": "python3"
  },
  "language_info": {
   "codemirror_mode": {
    "name": "ipython",
    "version": 3
   },
   "file_extension": ".py",
   "mimetype": "text/x-python",
   "name": "python",
   "nbconvert_exporter": "python",
   "pygments_lexer": "ipython3",
   "version": "3.9.12"
  },
  "vscode": {
   "interpreter": {
    "hash": "6a26c338ef7d335d20efedecc3f72e62e7d181a5ebdbe1803079434b137744f7"
   }
  }
 },
 "nbformat": 4,
 "nbformat_minor": 2
}
